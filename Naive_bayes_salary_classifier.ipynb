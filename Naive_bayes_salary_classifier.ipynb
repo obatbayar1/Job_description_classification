{
 "cells": [
  {
   "cell_type": "markdown",
   "id": "00e56b59",
   "metadata": {},
   "source": [
    "<a id=\"head\"></a>\n",
    "### Naive Bayes Salary Classifier\n",
    "### Oyundari Batbayar\n",
    "\n",
    "****\n",
    "The dataset is from [Kaggle](https://www.kaggle.com/competitions/job-salary-prediction/overview), for a competition by Adzuna.\n",
    "\n",
    "This project's objective is to explore the dataset and deploy a model with Naive Bayes Classifier to predict above or below salary (based on threshold) using job description. \n"
   ]
  },
  {
   "cell_type": "code",
   "execution_count": 1,
   "id": "63608a57",
   "metadata": {},
   "outputs": [],
   "source": [
    "#!pip install nltk\n",
    "# here are some code I want to modify on this file"
   ]
  },
  {
   "cell_type": "code",
   "execution_count": 2,
   "id": "e816da68",
   "metadata": {},
   "outputs": [],
   "source": [
    "#!pip install wordcloud"
   ]
  },
  {
   "cell_type": "code",
   "execution_count": 3,
   "id": "7823bf7c",
   "metadata": {},
   "outputs": [],
   "source": [
    "#!pip install gensim"
   ]
  },
  {
   "cell_type": "code",
   "execution_count": 4,
   "id": "69f2d198",
   "metadata": {},
   "outputs": [],
   "source": [
    "#pip install jupyterthemes"
   ]
  },
  {
   "cell_type": "code",
   "execution_count": 5,
   "id": "399be1db",
   "metadata": {},
   "outputs": [],
   "source": [
    "# Import libraries/packages\n",
    "import pandas as pd\n",
    "import re\n",
    "import numpy as np\n",
    "import matplotlib.pyplot as plt\n",
    "import seaborn as sns\n",
    "from wordcloud import WordCloud, STOPWORDS\n",
    "import nltk\n",
    "from nltk.stem import PorterStemmer, WordNetLemmatizer\n",
    "from nltk.corpus import stopwords\n",
    "from nltk.tokenize import word_tokenize, sent_tokenize\n",
    "import gensim\n",
    "from gensim.utils import simple_preprocess\n",
    "from gensim.parsing.preprocessing import STOPWORDS\n",
    "from sklearn.metrics import classification_report, confusion_matrix\n",
    "from sklearn.model_selection import train_test_split"
   ]
  },
  {
   "cell_type": "code",
   "execution_count": 6,
   "id": "190070d9",
   "metadata": {},
   "outputs": [],
   "source": [
    "from jupyterthemes import jtplot\n",
    "jtplot.style(theme='monokai', context='notebook', ticks=True, grid=False) \n",
    "# setting the style of the notebook to be monokai theme  "
   ]
  },
  {
   "cell_type": "code",
   "execution_count": 7,
   "id": "8efd150c",
   "metadata": {},
   "outputs": [],
   "source": [
    "# load the data (downlaoded from kaggle)\n",
    "df = pd.read_csv(r\"C:\\Users\\oyund\\Downloads\\Train_rev1.csv\")"
   ]
  },
  {
   "cell_type": "code",
   "execution_count": 8,
   "id": "df0593d6",
   "metadata": {},
   "outputs": [],
   "source": [
    "# Sample 2500 observations randomly\n",
    "df = df.sample(2500, random_state = 42)"
   ]
  },
  {
   "cell_type": "code",
   "execution_count": 9,
   "id": "c8419ee0",
   "metadata": {},
   "outputs": [
    {
     "data": {
      "text/html": [
       "<div>\n",
       "<style scoped>\n",
       "    .dataframe tbody tr th:only-of-type {\n",
       "        vertical-align: middle;\n",
       "    }\n",
       "\n",
       "    .dataframe tbody tr th {\n",
       "        vertical-align: top;\n",
       "    }\n",
       "\n",
       "    .dataframe thead th {\n",
       "        text-align: right;\n",
       "    }\n",
       "</style>\n",
       "<table border=\"1\" class=\"dataframe\">\n",
       "  <thead>\n",
       "    <tr style=\"text-align: right;\">\n",
       "      <th></th>\n",
       "      <th>Id</th>\n",
       "      <th>Title</th>\n",
       "      <th>FullDescription</th>\n",
       "      <th>LocationRaw</th>\n",
       "      <th>LocationNormalized</th>\n",
       "      <th>ContractType</th>\n",
       "      <th>ContractTime</th>\n",
       "      <th>Company</th>\n",
       "      <th>Category</th>\n",
       "      <th>SalaryRaw</th>\n",
       "      <th>SalaryNormalized</th>\n",
       "      <th>SourceName</th>\n",
       "      <th>Percentile</th>\n",
       "      <th>Target</th>\n",
       "    </tr>\n",
       "  </thead>\n",
       "  <tbody>\n",
       "    <tr>\n",
       "      <th>30390</th>\n",
       "      <td>68062598</td>\n",
       "      <td>Business Account Manager</td>\n",
       "      <td>Business Account Manager  Plumbing Heating Pro...</td>\n",
       "      <td>South West</td>\n",
       "      <td>South West London</td>\n",
       "      <td>NaN</td>\n",
       "      <td>permanent</td>\n",
       "      <td>BMS Sales Specialists</td>\n",
       "      <td>Sales Jobs</td>\n",
       "      <td>22000 - 25000 per annum + Car,Mobile,Pension,L...</td>\n",
       "      <td>23500</td>\n",
       "      <td>totaljobs.com</td>\n",
       "      <td>0.3166</td>\n",
       "      <td>Below</td>\n",
       "    </tr>\n",
       "    <tr>\n",
       "      <th>108709</th>\n",
       "      <td>69622111</td>\n",
       "      <td>Staff Nurse RGN/RMN  Newtown Abbey  Nights  Ne...</td>\n",
       "      <td>Job Title; Staff Nurse RGN/RMN – NightsLocatio...</td>\n",
       "      <td>Newtownabbey</td>\n",
       "      <td>Newtownabbey</td>\n",
       "      <td>full_time</td>\n",
       "      <td>NaN</td>\n",
       "      <td>Regional Recruitment Services</td>\n",
       "      <td>Healthcare &amp; Nursing Jobs</td>\n",
       "      <td>12.00/Hour</td>\n",
       "      <td>23040</td>\n",
       "      <td>staffnurse.com</td>\n",
       "      <td>0.3094</td>\n",
       "      <td>Below</td>\n",
       "    </tr>\n",
       "    <tr>\n",
       "      <th>13924</th>\n",
       "      <td>66664026</td>\n",
       "      <td>Community Fundraising Manager</td>\n",
       "      <td>This dynamic international development charity...</td>\n",
       "      <td>London</td>\n",
       "      <td>London</td>\n",
       "      <td>full_time</td>\n",
       "      <td>permanent</td>\n",
       "      <td>TPP Not for Profit</td>\n",
       "      <td>Charity &amp; Voluntary Jobs</td>\n",
       "      <td>33300 - 36400 per annum</td>\n",
       "      <td>34850</td>\n",
       "      <td>Third Sector Jobs</td>\n",
       "      <td>0.5944</td>\n",
       "      <td>Below</td>\n",
       "    </tr>\n",
       "    <tr>\n",
       "      <th>154606</th>\n",
       "      <td>71015241</td>\n",
       "      <td>Conveyancing Executive</td>\n",
       "      <td>Large regional law firm require a residential ...</td>\n",
       "      <td>Hampshire</td>\n",
       "      <td>Hampshire</td>\n",
       "      <td>full_time</td>\n",
       "      <td>permanent</td>\n",
       "      <td>PTP Consulting</td>\n",
       "      <td>Legal Jobs</td>\n",
       "      <td>From 18,000 to 27,000 per year</td>\n",
       "      <td>22500</td>\n",
       "      <td>TotallyLegal</td>\n",
       "      <td>0.2882</td>\n",
       "      <td>Below</td>\n",
       "    </tr>\n",
       "    <tr>\n",
       "      <th>172891</th>\n",
       "      <td>71428553</td>\n",
       "      <td>Investment Compliance Analyst</td>\n",
       "      <td>This individual will work closely with the bus...</td>\n",
       "      <td>London South East</td>\n",
       "      <td>South East London</td>\n",
       "      <td>NaN</td>\n",
       "      <td>permanent</td>\n",
       "      <td>Michael Page Financial Services</td>\n",
       "      <td>Accounting &amp; Finance Jobs</td>\n",
       "      <td>50000 to 60000 per annum</td>\n",
       "      <td>55000</td>\n",
       "      <td>totaljobs.com</td>\n",
       "      <td>0.8908</td>\n",
       "      <td>Above</td>\n",
       "    </tr>\n",
       "  </tbody>\n",
       "</table>\n",
       "</div>"
      ],
      "text/plain": [
       "              Id                                              Title  \\\n",
       "30390   68062598                           Business Account Manager   \n",
       "108709  69622111  Staff Nurse RGN/RMN  Newtown Abbey  Nights  Ne...   \n",
       "13924   66664026                      Community Fundraising Manager   \n",
       "154606  71015241                             Conveyancing Executive   \n",
       "172891  71428553                      Investment Compliance Analyst   \n",
       "\n",
       "                                          FullDescription        LocationRaw  \\\n",
       "30390   Business Account Manager  Plumbing Heating Pro...         South West   \n",
       "108709  Job Title; Staff Nurse RGN/RMN – NightsLocatio...       Newtownabbey   \n",
       "13924   This dynamic international development charity...             London   \n",
       "154606  Large regional law firm require a residential ...          Hampshire   \n",
       "172891  This individual will work closely with the bus...  London South East   \n",
       "\n",
       "       LocationNormalized ContractType ContractTime  \\\n",
       "30390   South West London          NaN    permanent   \n",
       "108709       Newtownabbey    full_time          NaN   \n",
       "13924              London    full_time    permanent   \n",
       "154606          Hampshire    full_time    permanent   \n",
       "172891  South East London          NaN    permanent   \n",
       "\n",
       "                                Company                   Category  \\\n",
       "30390             BMS Sales Specialists                 Sales Jobs   \n",
       "108709    Regional Recruitment Services  Healthcare & Nursing Jobs   \n",
       "13924                TPP Not for Profit   Charity & Voluntary Jobs   \n",
       "154606                   PTP Consulting                 Legal Jobs   \n",
       "172891  Michael Page Financial Services  Accounting & Finance Jobs   \n",
       "\n",
       "                                                SalaryRaw  SalaryNormalized  \\\n",
       "30390   22000 - 25000 per annum + Car,Mobile,Pension,L...             23500   \n",
       "108709                                         12.00/Hour             23040   \n",
       "13924                             33300 - 36400 per annum             34850   \n",
       "154606                     From 18,000 to 27,000 per year             22500   \n",
       "172891                           50000 to 60000 per annum             55000   \n",
       "\n",
       "               SourceName  Percentile Target  \n",
       "30390       totaljobs.com      0.3166  Below  \n",
       "108709     staffnurse.com      0.3094  Below  \n",
       "13924   Third Sector Jobs      0.5944  Below  \n",
       "154606       TotallyLegal      0.2882  Below  \n",
       "172891      totaljobs.com      0.8908  Above  "
      ]
     },
     "execution_count": 9,
     "metadata": {},
     "output_type": "execute_result"
    }
   ],
   "source": [
    "# Assigning Above and Below based on whether Salary Normalized is above or below 75th Percentile\n",
    "df['Percentile'] = df['SalaryNormalized'].rank(pct = True)\n",
    "df.loc[df['Percentile'] > 0.75, 'Target'] = 'Above'\n",
    "df.loc[df['Percentile'] < 0.75, 'Target'] = 'Below'\n",
    "df.head()"
   ]
  },
  {
   "cell_type": "markdown",
   "id": "dd9832d0",
   "metadata": {},
   "source": [
    "# Exploratory Data Analysis"
   ]
  },
  {
   "cell_type": "code",
   "execution_count": 10,
   "id": "54e0e0e8",
   "metadata": {},
   "outputs": [
    {
     "name": "stdout",
     "output_type": "stream",
     "text": [
      "<class 'pandas.core.frame.DataFrame'>\n",
      "Int64Index: 2500 entries, 30390 to 41373\n",
      "Data columns (total 14 columns):\n",
      " #   Column              Non-Null Count  Dtype  \n",
      "---  ------              --------------  -----  \n",
      " 0   Id                  2500 non-null   int64  \n",
      " 1   Title               2500 non-null   object \n",
      " 2   FullDescription     2500 non-null   object \n",
      " 3   LocationRaw         2500 non-null   object \n",
      " 4   LocationNormalized  2500 non-null   object \n",
      " 5   ContractType        685 non-null    object \n",
      " 6   ContractTime        1859 non-null   object \n",
      " 7   Company             2157 non-null   object \n",
      " 8   Category            2500 non-null   object \n",
      " 9   SalaryRaw           2500 non-null   object \n",
      " 10  SalaryNormalized    2500 non-null   int64  \n",
      " 11  SourceName          2500 non-null   object \n",
      " 12  Percentile          2500 non-null   float64\n",
      " 13  Target              2500 non-null   object \n",
      "dtypes: float64(1), int64(2), object(11)\n",
      "memory usage: 293.0+ KB\n"
     ]
    }
   ],
   "source": [
    "# See basic info about the dataset\n",
    "df.info()"
   ]
  },
  {
   "cell_type": "code",
   "execution_count": 11,
   "id": "b85c122e",
   "metadata": {},
   "outputs": [
    {
     "data": {
      "text/plain": [
       "Id                       0\n",
       "Title                    0\n",
       "FullDescription          0\n",
       "LocationRaw              0\n",
       "LocationNormalized       0\n",
       "ContractType          1815\n",
       "ContractTime           641\n",
       "Company                343\n",
       "Category                 0\n",
       "SalaryRaw                0\n",
       "SalaryNormalized         0\n",
       "SourceName               0\n",
       "Percentile               0\n",
       "Target                   0\n",
       "dtype: int64"
      ]
     },
     "execution_count": 11,
     "metadata": {},
     "output_type": "execute_result"
    }
   ],
   "source": [
    "# Check for null values\n",
    "df.isnull().sum()"
   ]
  },
  {
   "cell_type": "code",
   "execution_count": 12,
   "id": "5ec4f3f7",
   "metadata": {},
   "outputs": [
    {
     "data": {
      "text/plain": [
       "Below    1856\n",
       "Above     644\n",
       "Name: Target, dtype: int64"
      ]
     },
     "execution_count": 12,
     "metadata": {},
     "output_type": "execute_result"
    }
   ],
   "source": [
    "# Count target values\n",
    "df['Target'].value_counts()"
   ]
  },
  {
   "cell_type": "code",
   "execution_count": 13,
   "id": "cf508dc8",
   "metadata": {},
   "outputs": [],
   "source": [
    "# Above is 1 and below is 0, apply to target since it's our target variable.\n",
    "df['Target'] = df['Target'].apply(lambda x: 1 if x == 'Above' else 0)"
   ]
  },
  {
   "cell_type": "code",
   "execution_count": 14,
   "id": "8f0b61a2",
   "metadata": {},
   "outputs": [],
   "source": [
    "# Define Target as y\n",
    "y=df['Target']"
   ]
  },
  {
   "cell_type": "code",
   "execution_count": 15,
   "id": "b7590688",
   "metadata": {},
   "outputs": [],
   "source": [
    "# Define FullDescription as X\n",
    "X=df['FullDescription']"
   ]
  },
  {
   "cell_type": "code",
   "execution_count": 16,
   "id": "28e677a5",
   "metadata": {},
   "outputs": [],
   "source": [
    "# Split into train and test sets\n",
    "X_train, X_test, Y_train, Y_test = train_test_split(X, \n",
    "                                                    y,\n",
    "                                                    test_size=0.2,\n",
    "                                                    random_state=42)"
   ]
  },
  {
   "cell_type": "markdown",
   "id": "ad901552",
   "metadata": {},
   "source": [
    "# Perform Data Cleaning"
   ]
  },
  {
   "cell_type": "code",
   "execution_count": 17,
   "id": "6a2a1880",
   "metadata": {},
   "outputs": [],
   "source": [
    "# Function to clean text\n",
    "\n",
    "def text_clean(text, method, rm_stop):\n",
    "    text = re.sub(r\"\\n\",\"\",text)   #remove line breaks\n",
    "    text = text.lower() #convert to lowercase \n",
    "    text = re.sub(r\"\\d+\",\"\",text)   #remove digits and currencies \n",
    "    text = re.sub(r'[\\$\\d+\\d+\\$]', \"\", text)      \n",
    "    text = re.sub(r'\\d+[\\.\\/-]\\d+[\\.\\/-]\\d+', '', text)   #remove dates \n",
    "    text = re.sub(r'\\d+[\\.\\/-]\\d+[\\.\\/-]\\d+', '', text)\n",
    "    text = re.sub(r'\\d+[\\.\\/-]\\d+[\\.\\/-]\\d+', '', text)\n",
    "    text = re.sub(r'[^\\x00-\\x7f]',r' ',text)   #remove non-ascii\n",
    "    text = re.sub(r'[^\\w\\s]','',text)   #remove punctuation\n",
    "    text = re.sub(r'https?:\\/\\/.*[\\r\\n]*', '', text)   #remove hyperlinks\n",
    "    \n",
    "    #remove stop words \n",
    "    if rm_stop == True:\n",
    "        filtered_tokens = [word for word in word_tokenize(text) if not word in set(stopwords.words('english'))]\n",
    "        text = \" \".join(filtered_tokens)\n",
    "        \n",
    "    #lemmatization: typically preferred over stemming\n",
    "    if method == 'L':\n",
    "        lemmer = WordNetLemmatizer()\n",
    "        lemm_tokens = [lemmer.lemmatize(word) for word in word_tokenize(text)]\n",
    "        return \" \".join(lemm_tokens)\n",
    "    \n",
    "    #stemming \n",
    "    if method == 'S':\n",
    "        porter = PorterStemmer()\n",
    "        stem_tokens = [porter.stem(word) for word in word_tokenize(text)]\n",
    "        return \" \".join(stem_tokens)\n",
    "    \n",
    "    return text"
   ]
  },
  {
   "cell_type": "markdown",
   "id": "4fff969d",
   "metadata": {},
   "source": [
    "### Experimenting with different techniques"
   ]
  },
  {
   "cell_type": "code",
   "execution_count": 18,
   "id": "ac46c91b",
   "metadata": {},
   "outputs": [],
   "source": [
    "#1. preprocessed data: Lemm + stopword removal \n",
    "preprocessed_text_1 = [text_clean(text, 'L', True) for text in X_train]\n",
    "#preprocessed_text_1[0:5]\n",
    "\n",
    "#2. preprocessed data: Lemm + no stopword removal \n",
    "preprocessed_text_2 = [text_clean(text, 'L', False) for text in X_train]\n",
    "#preprocessed_text_2[0:5]\n",
    "\n",
    "#3. preprocessed data: Stem + stopword removal \n",
    "preprocessed_text_3 = [text_clean(text, 'S', True) for text in X_train]\n",
    "#preprocessed_text_3[0:5]\n",
    "\n",
    "#4. preprocessed data: Stem + no stopword removal \n",
    "preprocessed_text_4 = [text_clean(text, 'S', False) for text in X_train]\n",
    "#preprocessed_text_4[0:5]"
   ]
  },
  {
   "cell_type": "markdown",
   "id": "4d95bb63",
   "metadata": {},
   "source": [
    "### CountVectorizer"
   ]
  },
  {
   "cell_type": "code",
   "execution_count": 19,
   "id": "70b3b962",
   "metadata": {},
   "outputs": [],
   "source": [
    "# Function to transform model with CountVectorizer\n",
    "\n",
    "def transform_model_data_w_count_vectorizer(preprocessed_text, Y_train,  X_test, Y_test):\n",
    "    #vectorize dataset \n",
    "    vectorizer = CountVectorizer()\n",
    "    vectorized_data = vectorizer.fit_transform(preprocessed_text)\n",
    "\n",
    "    #define model\n",
    "    model = MultinomialNB(alpha=0.1)\n",
    "    model.fit(vectorized_data, Y_train)\n",
    "\n",
    "    #evaluate model\n",
    "    predictions = model.predict(vectorizer.transform(X_test))\n",
    "    accuracy = accuracy_score( Y_test, predictions)\n",
    "    balanced_accuracy = balanced_accuracy_score(Y_test, predictions)\n",
    "    precision = precision_score(Y_test, predictions)\n",
    "\n",
    "    print(\"Accuracy:\",round(100*accuracy,2),'%')\n",
    "    print(\"Balanced accuracy:\",round(100*balanced_accuracy,2),'%')\n",
    "    print(\"Precision:\", round(100*precision,2),'%')\n",
    "    return predictions"
   ]
  },
  {
   "cell_type": "markdown",
   "id": "00cc8018",
   "metadata": {},
   "source": [
    "### TFIDF Vectorizer"
   ]
  },
  {
   "cell_type": "code",
   "execution_count": 20,
   "id": "d2d35d62",
   "metadata": {},
   "outputs": [],
   "source": [
    "# Function to transform model with TFIDF Vectorizer\n",
    "\n",
    "def transform_model_data_w_tfidf_vectorizer(preprocessed_text, Y_train,  X_test, Y_test):\n",
    "    #vectorize dataset \n",
    "    tfidf = TfidfVectorizer()\n",
    "    vectorized_data = tfidf.fit_transform(preprocessed_text)\n",
    "\n",
    "    #define model\n",
    "    model = MultinomialNB(alpha=0.1)\n",
    "    model.fit(vectorized_data, Y_train)\n",
    " \n",
    "    #evaluate model\n",
    "    predictions = model.predict(tfidf.transform(X_test))\n",
    "\n",
    "    accuracy = accuracy_score( Y_test, predictions)\n",
    "    balanced_accuracy = balanced_accuracy_score(Y_test, predictions)\n",
    "    precision = precision_score(Y_test, predictions)\n",
    "\n",
    "    print(\"Accuracy:\",round(100*accuracy,2),'%')\n",
    "    print(\"Balanced accuracy:\",round(100*balanced_accuracy,2),'%')\n",
    "    print(\"Precision:\", round(100*precision,2),'%')\n",
    "    return predictions"
   ]
  },
  {
   "cell_type": "markdown",
   "id": "87c8185d",
   "metadata": {},
   "source": [
    "### Vectorize, model, and evaluate model using CountVectorizer"
   ]
  },
  {
   "cell_type": "code",
   "execution_count": 21,
   "id": "656cfec6",
   "metadata": {},
   "outputs": [
    {
     "name": "stderr",
     "output_type": "stream",
     "text": [
      "[nltk_data] Downloading package punkt to\n",
      "[nltk_data]     C:\\Users\\oyund\\AppData\\Roaming\\nltk_data...\n",
      "[nltk_data]   Package punkt is already up-to-date!\n",
      "[nltk_data] Downloading package wordnet to\n",
      "[nltk_data]     C:\\Users\\oyund\\AppData\\Roaming\\nltk_data...\n",
      "[nltk_data]   Package wordnet is already up-to-date!\n",
      "[nltk_data] Downloading package stopwords to\n",
      "[nltk_data]     C:\\Users\\oyund\\AppData\\Roaming\\nltk_data...\n",
      "[nltk_data]   Package stopwords is already up-to-date!\n"
     ]
    },
    {
     "data": {
      "text/plain": [
       "True"
      ]
     },
     "execution_count": 21,
     "metadata": {},
     "output_type": "execute_result"
    }
   ],
   "source": [
    "# Import other packages (some might be duplicates)\n",
    "import numpy as np\n",
    "import matplotlib.pyplot as plt\n",
    "import pandas as pd\n",
    "import nltk\n",
    "import seaborn as sns\n",
    "import re\n",
    "import os, types\n",
    "\n",
    "from sklearn.feature_extraction.text import CountVectorizer, TfidfVectorizer\n",
    "from sklearn.metrics import roc_auc_score, roc_curve, confusion_matrix, precision_score, recall_score, accuracy_score, balanced_accuracy_score, ConfusionMatrixDisplay\n",
    "from sklearn.model_selection import train_test_split\n",
    "from sklearn.naive_bayes import MultinomialNB\n",
    "from sklearn.utils.multiclass import unique_labels\n",
    "\n",
    "from nltk.stem import WordNetLemmatizer\n",
    "from nltk.stem import PorterStemmer\n",
    "from nltk.tokenize import word_tokenize\n",
    "from nltk.corpus import stopwords\n",
    "nltk.download(\"punkt\")\n",
    "nltk.download('wordnet')\n",
    "nltk.download('stopwords')"
   ]
  },
  {
   "cell_type": "code",
   "execution_count": 22,
   "id": "eac336b7",
   "metadata": {},
   "outputs": [
    {
     "name": "stdout",
     "output_type": "stream",
     "text": [
      "Lemm + stopword removal + CountVectorizer\n",
      "Accuracy: 76.4 %\n",
      "Balanced accuracy: 69.15 %\n",
      "Precision: 55.47 %\n",
      "\n",
      "Lemm + no stopword removal + CountVectorizer\n",
      "Accuracy: 76.0 %\n",
      "Balanced accuracy: 75.19 %\n",
      "Precision: 53.3 %\n",
      "\n",
      "Stem + stopword removal + CountVectorizer\n",
      "Accuracy: 76.6 %\n",
      "Balanced accuracy: 58.11 %\n",
      "Precision: 71.43 %\n",
      "\n",
      "Stem + no stopword removal + CountVectorizer\n",
      "Accuracy: 78.6 %\n",
      "Balanced accuracy: 70.16 %\n",
      "Precision: 61.06 %\n"
     ]
    },
    {
     "data": {
      "text/plain": [
       "array([1, 1, 0, 0, 0, 0, 0, 0, 0, 0, 0, 0, 0, 0, 1, 0, 0, 1, 1, 0, 0, 0,\n",
       "       0, 0, 0, 0, 0, 0, 0, 0, 0, 0, 1, 0, 0, 1, 0, 1, 0, 0, 0, 0, 0, 0,\n",
       "       0, 0, 1, 0, 0, 0, 0, 0, 0, 0, 0, 0, 0, 0, 0, 0, 0, 0, 1, 1, 1, 0,\n",
       "       0, 0, 1, 0, 0, 0, 0, 0, 1, 0, 1, 1, 0, 0, 0, 1, 0, 0, 0, 0, 0, 0,\n",
       "       0, 0, 0, 0, 0, 0, 0, 0, 1, 1, 1, 0, 0, 0, 0, 0, 0, 0, 0, 1, 1, 1,\n",
       "       1, 1, 1, 0, 0, 0, 0, 0, 0, 1, 0, 0, 0, 0, 1, 0, 0, 0, 0, 0, 0, 0,\n",
       "       0, 0, 1, 0, 1, 0, 0, 0, 0, 0, 0, 0, 0, 0, 0, 0, 0, 0, 0, 0, 0, 0,\n",
       "       1, 0, 0, 0, 1, 1, 1, 0, 0, 1, 0, 0, 1, 0, 0, 0, 0, 0, 1, 0, 0, 0,\n",
       "       0, 0, 0, 0, 1, 1, 1, 0, 0, 1, 0, 0, 1, 1, 1, 0, 0, 0, 1, 0, 1, 0,\n",
       "       0, 0, 0, 0, 1, 0, 0, 0, 0, 1, 0, 0, 0, 0, 1, 0, 0, 0, 1, 0, 0, 0,\n",
       "       0, 1, 0, 0, 0, 0, 0, 0, 0, 0, 0, 0, 0, 0, 0, 0, 1, 0, 1, 1, 0, 0,\n",
       "       0, 1, 1, 0, 0, 0, 0, 1, 0, 0, 1, 1, 0, 1, 0, 0, 0, 1, 0, 0, 1, 0,\n",
       "       0, 0, 0, 1, 0, 1, 1, 0, 0, 0, 1, 0, 1, 1, 0, 0, 0, 0, 1, 0, 0, 0,\n",
       "       0, 1, 0, 0, 0, 0, 0, 0, 1, 1, 0, 0, 0, 0, 0, 0, 1, 0, 1, 0, 0, 0,\n",
       "       0, 0, 0, 0, 0, 0, 0, 0, 0, 0, 0, 1, 0, 1, 0, 1, 0, 1, 0, 0, 1, 0,\n",
       "       0, 0, 0, 0, 0, 0, 1, 1, 1, 0, 0, 0, 0, 0, 1, 0, 0, 0, 1, 0, 0, 1,\n",
       "       0, 0, 0, 0, 0, 1, 0, 0, 0, 0, 0, 1, 0, 1, 0, 0, 0, 0, 0, 1, 0, 0,\n",
       "       0, 0, 0, 0, 0, 0, 0, 0, 0, 0, 1, 0, 0, 0, 0, 0, 0, 1, 1, 0, 0, 0,\n",
       "       0, 0, 1, 1, 0, 1, 0, 0, 1, 1, 0, 0, 1, 0, 0, 0, 0, 0, 1, 0, 1, 0,\n",
       "       0, 1, 0, 0, 1, 0, 0, 0, 0, 0, 0, 0, 0, 0, 0, 0, 0, 0, 0, 0, 0, 0,\n",
       "       0, 0, 0, 0, 1, 1, 1, 1, 0, 0, 0, 0, 0, 0, 0, 0, 0, 0, 0, 1, 0, 0,\n",
       "       0, 0, 0, 0, 0, 0, 0, 0, 0, 0, 0, 0, 0, 0, 0, 0, 0, 0, 0, 0, 1, 0,\n",
       "       0, 1, 1, 0, 1, 0, 0, 1, 0, 0, 0, 1, 0, 0, 0, 0], dtype=int64)"
      ]
     },
     "execution_count": 22,
     "metadata": {},
     "output_type": "execute_result"
    }
   ],
   "source": [
    "#vectorize, model, and evaluate model using CountVectorizer\n",
    "from sklearn.feature_extraction.text import CountVectorizer\n",
    "\n",
    "#1. Lemm + stopword removal \n",
    "print(\"Lemm + stopword removal + CountVectorizer\") \n",
    "transform_model_data_w_count_vectorizer(preprocessed_text_1, Y_train,  X_test, Y_test)\n",
    "\n",
    "#2. Lemm + no stopword removal \n",
    "print(\"\\nLemm + no stopword removal + CountVectorizer\") \n",
    "transform_model_data_w_count_vectorizer(preprocessed_text_2, Y_train,  X_test, Y_test)\n",
    "\n",
    "#3. Stem + stopword removal \n",
    "print(\"\\nStem + stopword removal + CountVectorizer\") \n",
    "transform_model_data_w_count_vectorizer(preprocessed_text_3, Y_train,  X_test, Y_test)\n",
    "\n",
    "#4. Stem + no stopword removal \n",
    "print(\"\\nStem + no stopword removal + CountVectorizer\") \n",
    "transform_model_data_w_count_vectorizer(preprocessed_text_4, Y_train,  X_test, Y_test)"
   ]
  },
  {
   "cell_type": "markdown",
   "id": "16888272",
   "metadata": {},
   "source": [
    "### Vectorize, model, and evaluate model using TfidfVectorizer"
   ]
  },
  {
   "cell_type": "code",
   "execution_count": 23,
   "id": "3dd77263",
   "metadata": {},
   "outputs": [
    {
     "name": "stdout",
     "output_type": "stream",
     "text": [
      "Lemm + stopword removal + TfidfVectorizer\n",
      "Accuracy: 79.0 %\n",
      "Balanced accuracy: 66.3 %\n",
      "Precision: 67.53 %\n",
      "\n",
      "Lemm + no stopword removal + TfidfVectorizer\n",
      "Accuracy: 77.6 %\n",
      "Balanced accuracy: 62.92 %\n",
      "Precision: 65.62 %\n",
      "\n",
      "Stem + stopword removal + TfidfVectorizer\n",
      "Accuracy: 77.0 %\n",
      "Balanced accuracy: 58.63 %\n",
      "Precision: 74.29 %\n",
      "\n",
      "Stem + no stopword removal + TfidfVectorizer\n",
      "Accuracy: 77.2 %\n",
      "Balanced accuracy: 58.03 %\n",
      "Precision: 82.14 %\n"
     ]
    },
    {
     "data": {
      "text/plain": [
       "array([0, 1, 0, 0, 0, 0, 0, 0, 0, 0, 0, 0, 0, 0, 0, 0, 0, 0, 0, 0, 0, 0,\n",
       "       0, 0, 0, 0, 0, 0, 0, 0, 0, 0, 0, 0, 0, 0, 0, 1, 0, 0, 0, 0, 0, 0,\n",
       "       0, 0, 0, 0, 0, 0, 0, 0, 0, 0, 0, 0, 0, 0, 0, 0, 0, 0, 0, 0, 0, 0,\n",
       "       0, 0, 0, 0, 0, 0, 0, 0, 0, 0, 0, 0, 0, 0, 0, 1, 0, 0, 0, 0, 0, 0,\n",
       "       0, 0, 0, 0, 0, 0, 0, 0, 0, 1, 0, 0, 0, 0, 0, 0, 0, 0, 0, 0, 0, 1,\n",
       "       1, 0, 0, 0, 0, 0, 0, 0, 0, 0, 0, 0, 0, 0, 0, 0, 0, 0, 0, 0, 0, 0,\n",
       "       0, 0, 0, 0, 0, 0, 0, 0, 0, 0, 0, 0, 0, 0, 0, 0, 0, 0, 0, 0, 0, 0,\n",
       "       0, 0, 0, 0, 1, 0, 0, 0, 0, 0, 0, 0, 0, 0, 0, 0, 0, 0, 0, 0, 0, 0,\n",
       "       0, 0, 0, 0, 0, 0, 1, 0, 0, 0, 0, 0, 0, 0, 0, 0, 0, 0, 0, 0, 0, 0,\n",
       "       0, 0, 0, 0, 0, 0, 0, 0, 0, 0, 0, 0, 0, 0, 0, 0, 0, 0, 1, 0, 0, 0,\n",
       "       0, 0, 0, 0, 0, 0, 0, 0, 0, 0, 0, 0, 0, 0, 0, 0, 0, 0, 0, 0, 0, 0,\n",
       "       0, 0, 0, 0, 0, 0, 0, 0, 0, 0, 0, 1, 0, 1, 0, 0, 0, 0, 0, 0, 0, 0,\n",
       "       0, 0, 0, 0, 0, 0, 1, 0, 0, 0, 0, 0, 0, 1, 0, 0, 0, 0, 1, 0, 0, 0,\n",
       "       0, 0, 0, 0, 0, 0, 0, 0, 0, 1, 0, 0, 0, 0, 0, 0, 0, 0, 0, 0, 0, 0,\n",
       "       0, 0, 0, 0, 0, 0, 0, 0, 0, 0, 0, 0, 0, 0, 0, 1, 0, 0, 0, 0, 0, 0,\n",
       "       0, 0, 0, 0, 0, 0, 1, 0, 0, 0, 0, 0, 0, 0, 0, 0, 0, 0, 0, 0, 0, 0,\n",
       "       0, 0, 0, 0, 0, 0, 0, 0, 0, 0, 0, 1, 0, 0, 0, 0, 0, 0, 0, 1, 0, 0,\n",
       "       0, 0, 0, 0, 0, 0, 0, 0, 0, 0, 0, 0, 0, 0, 0, 0, 0, 1, 0, 0, 0, 0,\n",
       "       0, 0, 0, 0, 0, 0, 0, 0, 0, 0, 0, 0, 0, 0, 0, 0, 0, 0, 1, 0, 1, 0,\n",
       "       0, 0, 0, 0, 0, 0, 0, 0, 0, 0, 0, 0, 0, 0, 0, 0, 0, 0, 0, 0, 0, 0,\n",
       "       0, 0, 0, 0, 1, 0, 1, 1, 0, 0, 0, 0, 0, 0, 0, 0, 0, 0, 0, 1, 0, 0,\n",
       "       0, 0, 0, 0, 0, 0, 0, 0, 0, 0, 0, 0, 0, 0, 0, 0, 0, 0, 0, 0, 0, 0,\n",
       "       0, 0, 1, 0, 1, 0, 0, 0, 0, 0, 0, 0, 0, 0, 0, 0], dtype=int64)"
      ]
     },
     "execution_count": 23,
     "metadata": {},
     "output_type": "execute_result"
    }
   ],
   "source": [
    "#vectorize, model, and evaluate model using TfidfVectorizer\n",
    "\n",
    "#1. Lemm + stopword removal \n",
    "print(\"Lemm + stopword removal + TfidfVectorizer\") \n",
    "transform_model_data_w_tfidf_vectorizer(preprocessed_text_1, Y_train,  X_test, Y_test)\n",
    "\n",
    "#2. Lemm + no stopword removal \n",
    "print(\"\\nLemm + no stopword removal + TfidfVectorizer\") \n",
    "transform_model_data_w_tfidf_vectorizer(preprocessed_text_2, Y_train,  X_test, Y_test)\n",
    "\n",
    "#3. Stem + stopword removal \n",
    "print(\"\\nStem + stopword removal + TfidfVectorizer\") \n",
    "transform_model_data_w_tfidf_vectorizer(preprocessed_text_3, Y_train,  X_test, Y_test)\n",
    "\n",
    "#4. Stem + no stopword removal \n",
    "print(\"\\nStem + no stopword removal + TfidfVectorizer\") \n",
    "transform_model_data_w_tfidf_vectorizer(preprocessed_text_4, Y_train,  X_test, Y_test)"
   ]
  },
  {
   "cell_type": "markdown",
   "id": "ab126f53",
   "metadata": {},
   "source": [
    "## Explanation\n",
    "\n",
    "* The model with the highest accuracy (79.0%) is \"Lemm + stopword removal + TfidfVectorizer\". This model would be best if the priority is to correctly classify job descriptions overall.\n",
    "* The model with the highest precision (82.14%) is \"Stem + no stopword removal + TfidfVectorizer\". This model would be the best if the priority is to ensure that when a job is classified as above the salary threshold, it is very likely to be correct. However, stopwords were not removed and it is not clear how this will perform on a fresh dataset). \n",
    "* The model with the highest balanced accuracy (75.19%) is \"Lemm + no stopword removal + CountVectorizer\". This model would be the best if the classes are imbalanced and we want to ensure that both high-salary and low-salary jobs are equally likely to be classified correctly. Again, with the stopword nonremoval issues. \n",
    "\n",
    "Let's go with model 1 with the highest accuracy. "
   ]
  },
  {
   "cell_type": "code",
   "execution_count": 24,
   "id": "98fc4b0c",
   "metadata": {},
   "outputs": [
    {
     "name": "stdout",
     "output_type": "stream",
     "text": [
      "Accuracy: 79.0 %\n",
      "Balanced accuracy: 66.3 %\n",
      "Precision: 67.53 %\n"
     ]
    }
   ],
   "source": [
    "predictions = transform_model_data_w_tfidf_vectorizer(preprocessed_text_1, Y_train,  X_test, Y_test)"
   ]
  },
  {
   "cell_type": "markdown",
   "id": "816c8f3c",
   "metadata": {},
   "source": [
    "## Confusion matrix"
   ]
  },
  {
   "cell_type": "code",
   "execution_count": 25,
   "id": "9875329a",
   "metadata": {},
   "outputs": [
    {
     "data": {
      "image/png": "[encoded data removed]",
      "text/plain": [
       "<Figure size 800x700 with 2 Axes>"
      ]
     },
     "metadata": {},
     "output_type": "display_data"
    }
   ],
   "source": [
    "# Compute the confusion matrix.\n",
    "cm = confusion_matrix(Y_test, predictions)\n",
    "\n",
    "# Plot the confusion matrix.\n",
    "disp = ConfusionMatrixDisplay(confusion_matrix=cm)\n",
    "disp.plot()\n",
    "plt.show()"
   ]
  },
  {
   "cell_type": "markdown",
   "id": "d2aefd5b",
   "metadata": {},
   "source": [
    "### Interpretation\n",
    "\n",
    "* True Negatives (TN): 343 instances were correctly predicted as class 0. This means that for 343 cases, the model correctly identified them as being below the salary threshold.\n",
    "\n",
    "* False Positives (FP): 25 instances were predicted as class 1 when they were actually class 0. This means that the model incorrectly predicted these cases as being above the salary threshold when they were not.\n",
    "\n",
    "* False Negatives (FN): 80 instances were predicted as class 0 when they were actually class 1. This means the model missed identifying these cases as being above the salary threshold when they actually were.\n",
    "\n",
    "* True Positives (TP): 52 instances were correctly predicted as class 1. This means that the model correctly identified 52 cases as being above the salary threshold.\n",
    "\n",
    "### Intepreting the numbers\n",
    "* Accuracy: This is a measure of how often the model is correct. For this model, the accuracy would be calculated as (TP + TN) / (TP + TN + FP + FN), which equates to (52 + 343) / (52 + 343 + 25 + 80) = 395 / 500 = 0.79 or 79%. This means that 79% of the time, the model's predictions are correct.\n",
    "\n",
    "* Precision for class 1: This is a measure of how many of the items identified as class 1 were actually class 1. The precision for the model is calculated as TP / (TP + FP), which is 52 / (52 + 25) = 52 / 77 ≈ 0.6753 or 67.53%. This means that when the model predicts an instance is above the salary threshold, it is correct about 67.53% of the time.\n",
    "\n",
    "* Recall for class 1: This measures how many of the actual class 1 items were identified as class 1. The recall for the model is TP / (TP + FN), which is 52 / (52 + 80) = 52 / 132 ≈ 0.3939 or 39.39%. This means that the model identifies about 39.39% of the actual above-salary-threshold instances correctly.\n",
    "\n",
    "* F1 Score for class 1: This is the harmonic mean of precision and recall and is a single metric that combines both. The F1 score is 2 * (Precision * Recall) / (Precision + Recall), which would be 2 * (0.6753 * 0.3939) / (0.6753 + 0.3939) ≈ 0.4915 or 49.15%. This means that the balance between precision and recall for the model, in terms of identifying the above-salary-threshold instances, is about 49.15%.\n",
    "\n",
    "In summary, while the model has a decent overall accuracy of 79%, it seems to struggle particularly with recall for class 1, meaning it is missing a significant number of instances that are actually above the salary threshold. Depending on the context, this might be an area to focus on for improvement, potentially by adjusting the threshold for classification or by further training the model."
   ]
  },
  {
   "cell_type": "markdown",
   "id": "f017c15a",
   "metadata": {},
   "source": [
    "# Visualize Text \n",
    "show the top 10 words (excluding stopwords) that are most indicative of (i) high salary, and (ii) low salary."
   ]
  },
  {
   "cell_type": "code",
   "execution_count": 26,
   "id": "ff553d42",
   "metadata": {},
   "outputs": [
    {
     "name": "stderr",
     "output_type": "stream",
     "text": [
      "[nltk_data] Downloading package stopwords to\n",
      "[nltk_data]     C:\\Users\\oyund\\AppData\\Roaming\\nltk_data...\n",
      "[nltk_data]   Package stopwords is already up-to-date!\n",
      "[nltk_data] Downloading package wordnet to\n",
      "[nltk_data]     C:\\Users\\oyund\\AppData\\Roaming\\nltk_data...\n",
      "[nltk_data]   Package wordnet is already up-to-date!\n"
     ]
    },
    {
     "data": {
      "text/plain": [
       "True"
      ]
     },
     "execution_count": 26,
     "metadata": {},
     "output_type": "execute_result"
    }
   ],
   "source": [
    "import re\n",
    "from nltk.corpus import stopwords\n",
    "from nltk.tokenize import RegexpTokenizer\n",
    "from nltk.stem import WordNetLemmatizer\n",
    "import nltk\n",
    "import pandas as pd\n",
    "from sklearn.feature_extraction.text import CountVectorizer\n",
    "from nltk.corpus import stopwords\n",
    "import nltk\n",
    "\n",
    "# Download NLTK resources\n",
    "nltk.download('stopwords')\n",
    "nltk.download('wordnet')"
   ]
  },
  {
   "cell_type": "code",
   "execution_count": 27,
   "id": "f23d16b1",
   "metadata": {},
   "outputs": [],
   "source": [
    "# Same function but now returning model, tfidf, predictions\n",
    "\n",
    "from sklearn.feature_extraction.text import TfidfVectorizer\n",
    "from sklearn.naive_bayes import MultinomialNB\n",
    "from sklearn.metrics import accuracy_score, balanced_accuracy_score, precision_score\n",
    "\n",
    "def transform_model_data_w_tfidf_vectorizer(preprocessed_text, Y_train, X_test, Y_test):\n",
    "    # Vectorize dataset\n",
    "    tfidf = TfidfVectorizer()\n",
    "    vectorized_data = tfidf.fit_transform(preprocessed_text)\n",
    "\n",
    "    # Define model\n",
    "    model = MultinomialNB(alpha=0.1)\n",
    "    model.fit(vectorized_data, Y_train)\n",
    " \n",
    "    # Evaluate model\n",
    "    predictions = model.predict(tfidf.transform(X_test))\n",
    "\n",
    "    accuracy = accuracy_score(Y_test, predictions)\n",
    "    balanced_accuracy = balanced_accuracy_score(Y_test, predictions)\n",
    "    precision = precision_score(Y_test, predictions)\n",
    "\n",
    "    print(\"Accuracy:\", round(100*accuracy, 2), '%')\n",
    "    print(\"Balanced accuracy:\", round(100*balanced_accuracy, 2), '%')\n",
    "    print(\"Precision:\", round(100*precision, 2), '%')\n",
    "\n",
    "    # Return the model, vectorizer, and predictions\n",
    "    return model, tfidf, predictions\n"
   ]
  },
  {
   "cell_type": "code",
   "execution_count": 28,
   "id": "956dbc48",
   "metadata": {},
   "outputs": [
    {
     "name": "stdout",
     "output_type": "stream",
     "text": [
      "Accuracy: 79.0 %\n",
      "Balanced accuracy: 66.3 %\n",
      "Precision: 67.53 %\n"
     ]
    }
   ],
   "source": [
    "# Transform with TFIDF vectorizer and get model, tfidf and predictions\n",
    "model, tfidf, predictions = transform_model_data_w_tfidf_vectorizer(preprocessed_text_1, Y_train, X_test, Y_test)"
   ]
  },
  {
   "cell_type": "markdown",
   "id": "1e61a440",
   "metadata": {},
   "source": [
    "### What were the top terms for High (Above) and Low (Below) salary?"
   ]
  },
  {
   "cell_type": "code",
   "execution_count": 29,
   "id": "35ec6d56",
   "metadata": {},
   "outputs": [
    {
     "name": "stdout",
     "output_type": "stream",
     "text": [
      "Top terms for 'Above' salary:\n",
      "skill\n",
      "role\n",
      "development\n",
      "manager\n",
      "management\n",
      "client\n",
      "team\n",
      "business\n",
      "experience\n",
      "project\n",
      "\n",
      "Top terms for 'Below' salary:\n",
      "business\n",
      "customer\n",
      "team\n",
      "manager\n",
      "client\n",
      "service\n",
      "role\n",
      "work\n",
      "experience\n",
      "sale\n"
     ]
    }
   ],
   "source": [
    "# Extract feature names and log probabilities\n",
    "feature_names = tfidf.get_feature_names_out()\n",
    "log_prob = model.feature_log_prob_\n",
    "\n",
    "# For positive class (Above salary threshold)\n",
    "top_above_indices = np.argsort(log_prob[1])[-10:]\n",
    "print(\"Top terms for 'Above' salary:\")\n",
    "for index in top_above_indices:\n",
    "    print(feature_names[index])\n",
    "\n",
    "# For negative class (Below salary threshold)\n",
    "top_below_indices = np.argsort(log_prob[0])[-10:]\n",
    "print(\"\\nTop terms for 'Below' salary:\")\n",
    "for index in top_below_indices:\n",
    "    print(feature_names[index])\n"
   ]
  },
  {
   "cell_type": "markdown",
   "id": "929ede0f",
   "metadata": {},
   "source": [
    "# Future State, Improvement, and Limitations\n",
    "\n",
    "If I wanted to increase the accuracy of the model above, how can I accomplish this using the\n",
    "dataset you have? Some points: \n",
    "\n",
    "1) Of course, one obvious point is to increase the sample size. \n",
    "2) Feature Engineering: Create more meaningful features from the existing data. For instance, in addition to the FullDescription, I could extract other features such as job title length, the presence of certain skills or certifications, or the seniority level implied by the job description.\n",
    "3) Hyperparameter Tuning: Adjust the hyperparameters of both the TfidfVectorizer and the MultinomialNB model. For instance, I could experiment with different values of alpha for the Naive Bayes model, or I could adjust parameters like max_df, min_df, and ngram_range for the TF-IDF vectorizer to refine the feature set.\n",
    "4) Advanced Text Preprocessing: Further refine the text cleaning function to handle edge cases, such as different forms of a word, misspellings, or domain-specific terms. Might also want to expand the stop words list to include terms that are common in job descriptions but not informative for salary prediction.\n",
    "5) POS Tagging: Since nouns can be particularly informative in job descriptions, I could use POS tagging to focus on certain types of words, such as nouns or adjectives, which might have more predictive power regarding salaries.\n",
    "6) Model Selection: Experiment with different models beyond Naive Bayes, such as logistic regression, support vector machines, or ensemble methods like random forests or gradient boosting machines, which might capture more complex patterns in the data.\n",
    "7) Cross-Validation: Use k-fold cross-validation to evaluate the model's performance. This will give a more reliable estimate of its accuracy on unseen data and could help prevent overfitting."
   ]
  },
  {
   "cell_type": "markdown",
   "id": "cd6f2b9d",
   "metadata": {},
   "source": [
    "### Let's try implementing 5. POS Tagging."
   ]
  },
  {
   "cell_type": "code",
   "execution_count": 30,
   "id": "be0ea246",
   "metadata": {},
   "outputs": [
    {
     "name": "stderr",
     "output_type": "stream",
     "text": [
      "[nltk_data] Downloading package averaged_perceptron_tagger to\n",
      "[nltk_data]     C:\\Users\\oyund\\AppData\\Roaming\\nltk_data...\n",
      "[nltk_data]   Package averaged_perceptron_tagger is already up-to-\n",
      "[nltk_data]       date!\n",
      "[nltk_data] Downloading package punkt to\n",
      "[nltk_data]     C:\\Users\\oyund\\AppData\\Roaming\\nltk_data...\n",
      "[nltk_data]   Package punkt is already up-to-date!\n",
      "[nltk_data] Downloading package stopwords to\n",
      "[nltk_data]     C:\\Users\\oyund\\AppData\\Roaming\\nltk_data...\n",
      "[nltk_data]   Package stopwords is already up-to-date!\n"
     ]
    },
    {
     "name": "stdout",
     "output_type": "stream",
     "text": [
      "Accuracy: 0.74\n",
      "Precision: 0.00\n",
      "Recall: 0.00\n",
      "F1 Score: 0.00\n"
     ]
    },
    {
     "name": "stderr",
     "output_type": "stream",
     "text": [
      "C:\\Users\\oyund\\anaconda3\\Lib\\site-packages\\sklearn\\metrics\\_classification.py:1344: UndefinedMetricWarning: Precision is ill-defined and being set to 0.0 due to no predicted samples. Use `zero_division` parameter to control this behavior.\n",
      "  _warn_prf(average, modifier, msg_start, len(result))\n"
     ]
    },
    {
     "data": {
      "image/png": "[encoded data removed]",
      "text/plain": [
       "<Figure size 800x700 with 2 Axes>"
      ]
     },
     "metadata": {},
     "output_type": "display_data"
    }
   ],
   "source": [
    "# Import necessary libraries\n",
    "import pandas as pd\n",
    "import numpy as np\n",
    "import nltk\n",
    "import re\n",
    "from nltk.tokenize import word_tokenize\n",
    "from nltk import pos_tag\n",
    "from sklearn.model_selection import train_test_split\n",
    "from sklearn.feature_extraction.text import TfidfVectorizer\n",
    "from sklearn.naive_bayes import MultinomialNB\n",
    "from sklearn.metrics import accuracy_score, precision_score, recall_score, f1_score, confusion_matrix\n",
    "from sklearn.metrics import ConfusionMatrixDisplay\n",
    "import matplotlib.pyplot as plt\n",
    "\n",
    "# Download necessary NLTK datasets\n",
    "nltk.download('averaged_perceptron_tagger')\n",
    "nltk.download('punkt')\n",
    "nltk.download('stopwords')\n",
    "\n",
    "# Define the text cleaning and POS tagging function\n",
    "def text_clean(text):\n",
    "    text = re.sub(r\"\\n\", \"\", text)  # remove line breaks\n",
    "    text = text.lower()  # convert to lowercase\n",
    "    text = re.sub(r\"\\d+\", \"\", text)  # remove digits\n",
    "    text = re.sub(r'[^\\x00-\\x7f]', r' ', text)  # remove non-ascii\n",
    "    text = re.sub(r'[^\\w\\s]', '', text)  # remove punctuation\n",
    "    text = re.sub(r'https?:\\/\\/.*[\\r\\n]*', '', text)  # remove hyperlinks\n",
    "    return text\n",
    "\n",
    "def extract_nouns_adjectives(text):\n",
    "    tokens = word_tokenize(text)\n",
    "    tagged = pos_tag(tokens)\n",
    "    nouns_adjectives = [word for word, tag in tagged if tag.startswith(('NN', 'JJ'))]  # NN (Noun), JJ (Adjective)\n",
    "    return ' '.join(nouns_adjectives)\n",
    "\n",
    "# Splitting the dataset first\n",
    "X_train, X_test, Y_train, Y_test = train_test_split(df['FullDescription'], df['Target'], test_size=0.2, random_state=42)\n",
    "\n",
    "# Apply cleaning and POS tagging to the training data\n",
    "X_train = X_train.apply(text_clean).apply(extract_nouns_adjectives)\n",
    "X_test = X_test.apply(text_clean).apply(extract_nouns_adjectives)\n",
    "\n",
    "# Vectorization\n",
    "tfidf = TfidfVectorizer()\n",
    "X_train_tfidf = tfidf.fit_transform(X_train)\n",
    "X_test_tfidf = tfidf.transform(X_test)\n",
    "\n",
    "# Model training\n",
    "model = MultinomialNB()\n",
    "model.fit(X_train_tfidf, Y_train)\n",
    "\n",
    "# Prediction and evaluation\n",
    "predictions = model.predict(X_test_tfidf)\n",
    "accuracy = accuracy_score(Y_test, predictions)\n",
    "precision = precision_score(Y_test, predictions, average='binary')\n",
    "recall = recall_score(Y_test, predictions, average='binary')\n",
    "f1 = f1_score(Y_test, predictions, average='binary')\n",
    "\n",
    "print(f\"Accuracy: {accuracy:.2f}\")\n",
    "print(f\"Precision: {precision:.2f}\")\n",
    "print(f\"Recall: {recall:.2f}\")\n",
    "print(f\"F1 Score: {f1:.2f}\")\n",
    "\n",
    "# Confusion Matrix\n",
    "cm = confusion_matrix(Y_test, predictions, labels=model.classes_)\n",
    "disp = ConfusionMatrixDisplay(confusion_matrix=cm, display_labels=model.classes_)\n",
    "disp.plot()\n",
    "plt.show()"
   ]
  },
  {
   "cell_type": "markdown",
   "id": "706e789f",
   "metadata": {},
   "source": [
    "### This is bad!\n",
    "\n",
    "The classification model has predicted all instances as class 0, and none as class 1. This is a clear case of a model that is heavily biased towards one class. \n",
    "\n",
    "This could be due to several reasons:\n",
    "\n",
    "1. Class Imbalance: If class 1 is underrepresented in the training data, the model may learn to always predict the majority class.\n",
    "2. Inadequate Features: The features used to train the model might not have enough predictive power to differentiate between the two classes.\n",
    "3. Model Configuration: The model's parameters may be set up in a way that it's unable to capture the complexity needed to distinguish between classes.\n",
    "\n",
    "This needs more attention and further investigation. \n",
    "\n",
    "1) **Rebalancing Techniques:** To address class imbalance, could use techniques such as oversampling the minority class (class 1 in this case), undersampling the majority class, or generating synthetic samples using methods like SMOTE (Synthetic Minority Over-sampling Technique).\n",
    "\n",
    "2) **Class Weight Adjustment:** Many machine learning algorithms allow us to set class weights to balance out the influence of each class. For instance, by increasing the weight of class 1, we can make the model 'pay more attention' to the minority class.\n",
    "\n",
    "3) **Threshold Tuning:** Might also consider adjusting the decision threshold. By default, a threshold of 0.5 is used for binary classification, but this might not be appropriate in cases of class imbalance. Lowering the threshold for class 1 could lead to more balanced predictions.\n",
    "\n",
    "4) **Model Evaluation on Balanced Data:** Even if we have an imbalanced dataset, we can evaluate your model on a balanced subset to see how it performs across the classes. If it performs poorly, even on a balanced subset, the issue might not be with class imbalance but with other aspects of the model or data."
   ]
  },
  {
   "cell_type": "markdown",
   "id": "771d5cc7",
   "metadata": {},
   "source": [
    "# References: \n",
    "\n",
    "* Professor Taha's script on email classifier"
   ]
  }
 ],
 "metadata": {
  "kernelspec": {
   "display_name": "Python 3 (ipykernel)",
   "language": "python",
   "name": "python3"
  },
  "language_info": {
   "codemirror_mode": {
    "name": "ipython",
    "version": 3
   },
   "file_extension": ".py",
   "mimetype": "text/x-python",
   "name": "python",
   "nbconvert_exporter": "python",
   "pygments_lexer": "ipython3",
   "version": "3.11.3"
  }
 },
 "nbformat": 4,
 "nbformat_minor": 5
}
